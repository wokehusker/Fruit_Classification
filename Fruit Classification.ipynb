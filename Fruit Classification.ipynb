{
 "cells": [
  {
   "cell_type": "code",
   "execution_count": 1,
   "metadata": {},
   "outputs": [],
   "source": [
    "#Load in the packages\n",
    "import pandas as pd\n",
    "import os, shutil\n",
    "import time\n",
    "import matplotlib.pyplot as plt\n",
    "%matplotlib inline\n",
    "from matplotlib.image import imread\n",
    "import scipy\n",
    "import numpy as np\n",
    "from PIL import Image\n",
    "from scipy import ndimage\n",
    "from keras.preprocessing.image import ImageDataGenerator, array_to_img\n",
    "\n",
    "#Set random state for reproducibility\n",
    "np.random.seed(123)\n"
   ]
  },
  {
   "cell_type": "code",
   "execution_count": 2,
   "metadata": {
    "scrolled": true
   },
   "outputs": [
    {
     "data": {
      "text/plain": [
       "'C:\\\\Users\\\\acathcart\\\\Documents\\\\AI Academy\\\\Fruit Classification'"
      ]
     },
     "execution_count": 2,
     "metadata": {},
     "output_type": "execute_result"
    }
   ],
   "source": [
    "#Locate the root directory we will be working with\n",
    "root_dir = os.getcwd()\n",
    "root_dir"
   ]
  },
  {
   "cell_type": "code",
   "execution_count": 3,
   "metadata": {},
   "outputs": [],
   "source": [
    "#Find the path to the raw image data folders\n",
    "apple = root_dir+'\\\\apple'\n",
    "plum = root_dir+'\\\\plum'\n",
    "tomato = root_dir+'\\\\tomato'"
   ]
  },
  {
   "cell_type": "code",
   "execution_count": 4,
   "metadata": {},
   "outputs": [],
   "source": [
    "#Access the contents of the respective raw image data folders\n",
    "apple_dir = os.listdir(apple)\n",
    "plum_dir = os.listdir(plum)\n",
    "tomato_dir = os.listdir(tomato)\n",
    "\n",
    "#Create a list for the respective fruits to hold the underlying image filenames\n",
    "apple_fn = []\n",
    "for i in apple_dir:\n",
    "    apple_fn.append(i)\n",
    "    \n",
    "plum_fn = []\n",
    "for i in plum_dir:\n",
    "    plum_fn.append(i)\n",
    "\n",
    "tomato_fn = []\n",
    "for i in tomato_dir:\n",
    "    tomato_fn.append(i)\n",
    "\n",
    "#Combine filename lists into one comprehensive list\n",
    "all_fn = apple_fn + plum_fn + tomato_fn\n",
    "\n",
    "#Create a list for the respective fruits to hold the underlying correct classifications\n",
    "apple_class = []\n",
    "for i in apple_dir:\n",
    "    apple_class.append('apple')\n",
    "    \n",
    "plum_class = []\n",
    "for i in plum_dir:\n",
    "    plum_class.append('plum')\n",
    "    \n",
    "tomato_class = []\n",
    "for i in tomato_dir:\n",
    "    tomato_class.append('tomato')\n",
    "    \n",
    "#Combine classification lists into one comprehensive list    \n",
    "all_class = apple_class + plum_class + tomato_class"
   ]
  },
  {
   "cell_type": "code",
   "execution_count": 5,
   "metadata": {},
   "outputs": [],
   "source": [
    "#Create a Pandas DataFrame to hold image IDs and correct classification\n",
    "data_manual = pd.DataFrame()\n",
    "data_manual['id'] = all_fn\n",
    "data_manual['class'] = all_class"
   ]
  },
  {
   "cell_type": "code",
   "execution_count": 6,
   "metadata": {},
   "outputs": [
    {
     "data": {
      "text/html": [
       "<div>\n",
       "<style scoped>\n",
       "    .dataframe tbody tr th:only-of-type {\n",
       "        vertical-align: middle;\n",
       "    }\n",
       "\n",
       "    .dataframe tbody tr th {\n",
       "        vertical-align: top;\n",
       "    }\n",
       "\n",
       "    .dataframe thead th {\n",
       "        text-align: right;\n",
       "    }\n",
       "</style>\n",
       "<table border=\"1\" class=\"dataframe\">\n",
       "  <thead>\n",
       "    <tr style=\"text-align: right;\">\n",
       "      <th></th>\n",
       "      <th>id</th>\n",
       "      <th>class</th>\n",
       "    </tr>\n",
       "  </thead>\n",
       "  <tbody>\n",
       "    <tr>\n",
       "      <th>0</th>\n",
       "      <td>102red applee00901102.png</td>\n",
       "      <td>apple</td>\n",
       "    </tr>\n",
       "    <tr>\n",
       "      <th>1</th>\n",
       "      <td>103red applee00916103.png</td>\n",
       "      <td>apple</td>\n",
       "    </tr>\n",
       "    <tr>\n",
       "      <th>2</th>\n",
       "      <td>107red applee01001107.png</td>\n",
       "      <td>apple</td>\n",
       "    </tr>\n",
       "    <tr>\n",
       "      <th>3</th>\n",
       "      <td>108red applee01006108.png</td>\n",
       "      <td>apple</td>\n",
       "    </tr>\n",
       "    <tr>\n",
       "      <th>4</th>\n",
       "      <td>109red applee01021109.png</td>\n",
       "      <td>apple</td>\n",
       "    </tr>\n",
       "    <tr>\n",
       "      <th>...</th>\n",
       "      <td>...</td>\n",
       "      <td>...</td>\n",
       "    </tr>\n",
       "    <tr>\n",
       "      <th>6898</th>\n",
       "      <td>Tamotoes00995.png</td>\n",
       "      <td>tomato</td>\n",
       "    </tr>\n",
       "    <tr>\n",
       "      <th>6899</th>\n",
       "      <td>Tamotoes00996.png</td>\n",
       "      <td>tomato</td>\n",
       "    </tr>\n",
       "    <tr>\n",
       "      <th>6900</th>\n",
       "      <td>Tamotoes00997.png</td>\n",
       "      <td>tomato</td>\n",
       "    </tr>\n",
       "    <tr>\n",
       "      <th>6901</th>\n",
       "      <td>Tamotoes00998.png</td>\n",
       "      <td>tomato</td>\n",
       "    </tr>\n",
       "    <tr>\n",
       "      <th>6902</th>\n",
       "      <td>Tamotoes00999.png</td>\n",
       "      <td>tomato</td>\n",
       "    </tr>\n",
       "  </tbody>\n",
       "</table>\n",
       "<p>6903 rows × 2 columns</p>\n",
       "</div>"
      ],
      "text/plain": [
       "                             id   class\n",
       "0     102red applee00901102.png   apple\n",
       "1     103red applee00916103.png   apple\n",
       "2     107red applee01001107.png   apple\n",
       "3     108red applee01006108.png   apple\n",
       "4     109red applee01021109.png   apple\n",
       "...                         ...     ...\n",
       "6898          Tamotoes00995.png  tomato\n",
       "6899          Tamotoes00996.png  tomato\n",
       "6900          Tamotoes00997.png  tomato\n",
       "6901          Tamotoes00998.png  tomato\n",
       "6902          Tamotoes00999.png  tomato\n",
       "\n",
       "[6903 rows x 2 columns]"
      ]
     },
     "execution_count": 6,
     "metadata": {},
     "output_type": "execute_result"
    }
   ],
   "source": [
    "#Quickly spot check the DataFrame to see that the images have been stored correctly\n",
    "data_manual"
   ]
  },
  {
   "cell_type": "code",
   "execution_count": 7,
   "metadata": {
    "scrolled": false
   },
   "outputs": [],
   "source": [
    "#Create directories for our train, validate, and test sets\n",
    "dir_names = ['train', 'validate', 'test']\n",
    "for group in dir_names:\n",
    "    new_dir = os.path.join(root_dir, group)\n",
    "    os.mkdir(new_dir)\n",
    "\n",
    "for fruit in ['apple', 'plum', 'tomato']:\n",
    "# Create sub_directories by fruit type\n",
    "    for group in dir_names:\n",
    "        new_dir = os.path.join(root_dir, group, fruit)\n",
    "        os.mkdir(new_dir)"
   ]
  },
  {
   "cell_type": "code",
   "execution_count": 8,
   "metadata": {},
   "outputs": [
    {
     "name": "stdout",
     "output_type": "stream",
     "text": [
      "Moving Apple pictures.\n",
      "Split 2434 imgs into 1947 train, 243 val, and 244 test examples.\n"
     ]
    }
   ],
   "source": [
    "#Split the apple images into our train, validate, and test sets\n",
    "print('Moving {} pictures.'.format('Apple'))\n",
    "apple_df = data_manual[data_manual['class'] == 'apple']\n",
    "train_apple, validate_apple, test_apple = np.split(apple_df.sample(frac=1), [int(.8*len(apple_df)), int(.9*len(apple_df))])\n",
    "print('Split {} imgs into {} train, {} val, and {} test examples.'.format(len(apple_df),\n",
    "                                                                              len(train_apple),\n",
    "                                                                              len(validate_apple),\n",
    "                                                                              len(test_apple)))\n",
    "\n",
    "#Copy apple images to their correct directory & sub_directory   \n",
    "for i, temp in enumerate([train_apple]):\n",
    "    for row in train_apple.index:\n",
    "        filename = apple_df['id'][row]\n",
    "        origin = os.path.join(root_dir + '\\\\' + 'apple' + '\\\\' + filename)\n",
    "        destination = os.path.join(root_dir + '\\\\' + 'train' + '\\\\' + 'apple' + '\\\\' + filename)\n",
    "        shutil.copy(origin, destination)\n",
    "            \n",
    "for i, temp in enumerate([validate_apple]):\n",
    "    for row in validate_apple.index:\n",
    "        filename = apple_df['id'][row]\n",
    "        origin = os.path.join(root_dir + '\\\\' + 'apple' + '\\\\' + filename)\n",
    "        destination = os.path.join(root_dir + '\\\\' + 'validate' + '\\\\' + 'apple' + '\\\\' + filename)\n",
    "        shutil.copy(origin, destination)\n",
    "            \n",
    "for i, temp in enumerate([test_apple]):\n",
    "    for row in test_apple.index:\n",
    "        filename = apple_df['id'][row]\n",
    "        origin = os.path.join(root_dir + '\\\\' + 'apple' + '\\\\' + filename)\n",
    "        destination = os.path.join(root_dir + '\\\\' + 'test' + '\\\\' + 'apple' + '\\\\' + filename)\n",
    "        shutil.copy(origin, destination)"
   ]
  },
  {
   "cell_type": "code",
   "execution_count": 9,
   "metadata": {},
   "outputs": [
    {
     "name": "stdout",
     "output_type": "stream",
     "text": [
      "Moving Plum pictures.\n",
      "Split 2298 imgs into 1838 train, 230 val, and 230 test examples.\n"
     ]
    }
   ],
   "source": [
    "#Split the plum images into our train, validate, and test sets\n",
    "print('Moving {} pictures.'.format('Plum'))\n",
    "plum_df = data_manual[data_manual['class'] == 'plum']\n",
    "train_plum, validate_plum, test_plum = np.split(plum_df.sample(frac=1), [int(.8*len(plum_df)), int(.9*len(plum_df))])\n",
    "print('Split {} imgs into {} train, {} val, and {} test examples.'.format(len(plum_df),\n",
    "                                                                              len(train_plum),\n",
    "                                                                              len(validate_plum),\n",
    "                                                                              len(test_plum)))\n",
    "\n",
    "#Copy plum images to their correct directory & sub_directory   \n",
    "for i, temp in enumerate([train_plum]):\n",
    "    for row in train_plum.index:\n",
    "        filename = plum_df['id'][row]\n",
    "        origin = os.path.join(root_dir + '\\\\' + 'plum' + '\\\\' + filename)\n",
    "        destination = os.path.join(root_dir + '\\\\' + 'train' + '\\\\' + 'plum' + '\\\\' + filename)\n",
    "        shutil.copy(origin, destination)\n",
    "            \n",
    "for i, temp in enumerate([validate_plum]):\n",
    "    for row in validate_plum.index:\n",
    "        filename = plum_df['id'][row]\n",
    "        origin = os.path.join(root_dir + '\\\\' + 'plum' + '\\\\' + filename)\n",
    "        destination = os.path.join(root_dir + '\\\\' + 'validate' + '\\\\' + 'plum' + '\\\\' + filename)\n",
    "        shutil.copy(origin, destination)\n",
    "            \n",
    "for i, temp in enumerate([test_plum]):\n",
    "    for row in test_plum.index:\n",
    "        filename = plum_df['id'][row]\n",
    "        origin = os.path.join(root_dir + '\\\\' + 'plum' + '\\\\' + filename)\n",
    "        destination = os.path.join(root_dir + '\\\\' + 'test' + '\\\\' + 'plum' + '\\\\' + filename)\n",
    "        shutil.copy(origin, destination)"
   ]
  },
  {
   "cell_type": "code",
   "execution_count": 10,
   "metadata": {},
   "outputs": [
    {
     "name": "stdout",
     "output_type": "stream",
     "text": [
      "Moving Tomato pictures.\n",
      "Split 2298 imgs into 1736 train, 217 val, and 218 test examples.\n"
     ]
    }
   ],
   "source": [
    "#Split the tomato images into our train, validate, and test sets\n",
    "print('Moving {} pictures.'.format('Tomato'))\n",
    "tomato_df = data_manual[data_manual['class'] == 'tomato']\n",
    "train_tomato, validate_tomato, test_tomato = np.split(tomato_df.sample(frac=1), [int(.8*len(tomato_df)), int(.9*len(tomato_df))])\n",
    "print('Split {} imgs into {} train, {} val, and {} test examples.'.format(len(plum_df),\n",
    "                                                                              len(train_tomato),\n",
    "                                                                              len(validate_tomato),\n",
    "                                                                              len(test_tomato)))\n",
    "\n",
    "#Copy tomato images to their correct directory & sub_directory   \n",
    "for i, temp in enumerate([train_tomato]):\n",
    "    for row in train_tomato.index:\n",
    "        filename = tomato_df['id'][row]\n",
    "        origin = os.path.join(root_dir + '\\\\' + 'tomato' + '\\\\' + filename)\n",
    "        destination = os.path.join(root_dir + '\\\\' + 'train' + '\\\\' + 'tomato' + '\\\\' + filename)\n",
    "        shutil.copy(origin, destination)\n",
    "            \n",
    "for i, temp in enumerate([validate_tomato]):\n",
    "    for row in validate_tomato.index:\n",
    "        filename = tomato_df['id'][row]\n",
    "        origin = os.path.join(root_dir + '\\\\' + 'tomato' + '\\\\' + filename)\n",
    "        destination = os.path.join(root_dir + '\\\\' + 'validate' + '\\\\' + 'tomato' + '\\\\' + filename)\n",
    "        shutil.copy(origin, destination)\n",
    "            \n",
    "for i, temp in enumerate([test_tomato]):\n",
    "    for row in test_tomato.index:\n",
    "        filename = tomato_df['id'][row]\n",
    "        origin = os.path.join(root_dir + '\\\\' + 'tomato' + '\\\\' + filename)\n",
    "        destination = os.path.join(root_dir + '\\\\' + 'test' + '\\\\' + 'tomato' + '\\\\' + filename)\n",
    "        shutil.copy(origin, destination)"
   ]
  },
  {
   "cell_type": "code",
   "execution_count": null,
   "metadata": {},
   "outputs": [],
   "source": []
  }
 ],
 "metadata": {
  "kernelspec": {
   "display_name": "Python (learn-env)",
   "language": "python",
   "name": "learn-env"
  },
  "language_info": {
   "codemirror_mode": {
    "name": "ipython",
    "version": 3
   },
   "file_extension": ".py",
   "mimetype": "text/x-python",
   "name": "python",
   "nbconvert_exporter": "python",
   "pygments_lexer": "ipython3",
   "version": "3.8.5"
  }
 },
 "nbformat": 4,
 "nbformat_minor": 4
}
